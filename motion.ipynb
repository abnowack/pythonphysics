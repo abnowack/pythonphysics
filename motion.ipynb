{
 "cells": [
  {
   "cell_type": "markdown",
   "metadata": {},
   "source": [
    "# Integration of Motion"
   ]
  },
  {
   "cell_type": "markdown",
   "metadata": {},
   "source": [
    "## Outline\n",
    "\n",
    "[ ] Basic Euler\n",
    " - Throw a baseball\n",
    " - Compare with Truth\n",
    " - Show effect of timestep\n",
    " - Why timestep matters and error term\n",
    "[ ] Verlet / Leapfrog\n",
    " - Comparison with previous baseball\n",
    " - Simple Pendulum\n",
    "[ ] Runge Kutta"
   ]
  },
  {
   "cell_type": "markdown",
   "metadata": {},
   "source": [
    "Starting with basic equation of motion, $ \\vec{F} = m \\vec{a} $\n",
    "\n",
    "Where, using $\\vec{r}$ as position, $\\vec{v}$ for velocity, and $\\vec{a}$ for acceleration of an object of mass $m$ experiencing the force $\\vec{F}$, \n",
    "$$ \\frac{d \\vec{r}}{dt} = \\vec{v} $$\n",
    "$$  \\quad \\frac{d\\vec{v}}{dt} = \\vec{a} = \\frac{1}{m} \\vec{F} $$\n",
    "If the force applied is only the downward force of gravity, ${F_g}_x = 0, {F_g}_y = -9.8 ~ (m / s^2)$ or more compactly $\\vec{F}_g = \\left[0, -9.8 \\right] ~ (m / s^2)$\n",
    "\n",
    "We can solve for the equations of motions to obtain the trajectory of a ball with initial position $\\vec{r}_0$ and velocity $\\vec{v}_0$ as,\n",
    "$$\\vec{r} (t) = \\vec{r}_0 + \\vec{v}_0 t - \\frac{1}{2} g t^2 \\hat{y}$$\n",
    "Where g is the acceleration due to gravity of $(9.8 m / s^2)$."
   ]
  },
  {
   "cell_type": "markdown",
   "metadata": {},
   "source": [
    "To obtain a numerical method, we need a method for evaluating the derivatives $\\frac{d\\vec{r}}{dt}$ and $\\frac{d\\vec{v}}{dt}$ and obtain an equation of motion $\\vec{r}(t)$.\n",
    "\n",
    "Starting from the formal definition of the derivative with $\\tau$ as an infitisemal time step.\n",
    "$$ r'(t) = \\lim_{\\tau\\to 0} \\frac{r(t + \\tau) - r(t)}{\\tau} $$\n",
    "However, for a given time $t$ and position $r(t)$, we must know the position at some small increment future time $r(t+\\tau)$.\n",
    "To find this new position, consider the taylor expansion of $r(t+\\tau)$,\n",
    "$$ r(t+\\tau) = r(t) + \\tau ~ r'(t) + \\frac{\\tau^2}{2} r''(t) + \\cdots$$\n",
    "The terms in the expansion involving second and higher order derivatives are equal to,\n",
    "$$ \\frac{\\tau^2}{2} r''(t) + \\cdots = \\frac{\\tau^2}{2} r''(\\eta) $$\n",
    "For some $\\eta$ between $t$ and $t + \\tau$.\n",
    "\n",
    "Rearranging the taylor expansion for $r'(t)$ with this substitution, we have\n",
    "$$ r'(t) = \\frac{r(t + \\tau) - r(t)}{\\tau} - \\frac{1}{2}\\tau ~ r''(\\eta) $$\n",
    "Often written as,\n",
    "$$ r'(t) = \\frac{r(t + \\tau) - r(t)}{\\tau} + \\mathcal{O}(\\tau) $$\n",
    "indicating that the additional term(s) are of order $\\tau$ ($\\tau$ raised to the one power).\n",
    "\n",
    "In order to solve for $r(t + \\tau)$, we must know make an approximation. In the _Euler_ method, we assume that the additional term(s) are zero. Now solving for $r(t+\\tau)$ we finally have,\n",
    "$$ r(t + \\tau) = \\tau ~ r'(t) + r(t) $$\n",
    "and for $v(t)$ we have,\n",
    "$$ v(t + \\tau) = \\tau ~ v'(t) + v(t) $$\n",
    "\n",
    "Substituting the values of $r'(t) = v(t)$, $v'(t) = a(t)$\n",
    "$$ r(t + \\tau) = \\tau ~ v(t) + r(t) $$\n",
    "$$ v(t + \\tau) = \\tau ~ a(t) + v(t) $$\n",
    "\n",
    "Using the notation of $t_n = n ~ \\tau$ and $r_{n} = r(t_n)$, $r_{n+1} = r(t_{n+1}) = r(t_n + \\tau)$,\n",
    "$$ r_{n+1} = r_n + \\tau ~v_n $$\n",
    "$$ v_{n+1} = v_n + \\tau ~a_n $$\n",
    "Where $a_n = a(r_n, v_n)$.\n",
    "\n",
    "Thus our method will be to \n",
    "1) Start with an initial position and velocity, $r_0$, $v_0$\n",
    "2) Choose a time step $\\tau$\n",
    "3) Calculate $a_n = a(r_n, v_n)$\n",
    "4) Use the update equations to calculate $v_{n+1}$ and $r_{n+1}$\n",
    "5) Repeat steps 3 and 4 until we have reached a desired end point, either a time or some stopping condition"
   ]
  },
  {
   "cell_type": "markdown",
   "metadata": {},
   "source": [
    "# Python Portion"
   ]
  },
  {
   "cell_type": "code",
   "execution_count": 17,
   "metadata": {},
   "outputs": [],
   "source": [
    "import numpy as np\n",
    "import matplotlib.pyplot as plt\n",
    "\n",
    "from dataclasses import dataclass\n",
    "\n",
    "\n",
    "@dataclass\n",
    "class Point2D:\n",
    "    x: float = 0\n",
    "    y: float = 0\n",
    "\n",
    "    def __add__(self, other):\n",
    "        temp = Point2D()\n",
    "        if type(other) is Point2D:\n",
    "            temp.x = self.x + other.x\n",
    "            temp.y = self.y + other.y\n",
    "            return temp\n",
    "        elif type(other) is float:\n",
    "            temp.x = self.x + other\n",
    "            temp.y = self.y + other\n",
    "            return temp\n",
    "\n",
    "    def __radd__(self, other):\n",
    "        return self.__add__(other)\n",
    "\n",
    "    def __mul__(self, other):\n",
    "        temp = Point2D()\n",
    "        if type(other) is Point2D:\n",
    "            temp.x = self.x * other.x\n",
    "            temp.y = self.y * other.y\n",
    "            return temp\n",
    "        elif type(other) is float:\n",
    "            temp.x = self.x * other\n",
    "            temp.y = self.y * other\n",
    "            return temp\n",
    "\n",
    "    def __rmul__(self, other):\n",
    "        return self.__mul__(other)\n",
    " \n",
    "\n",
    "@dataclass\n",
    "class PointObject:\n",
    "    r: Point2D\n",
    "    v: Point2D\n",
    "\n",
    "\n",
    "@dataclass\n",
    "class Ball(PointObject):\n",
    "    time_step: float = 0\n",
    "\n",
    "    def euler_update(self, a):\n",
    "        new_v = self.v + self.time_step * a\n",
    "        new_r = self.r + self.time_step * self.v\n",
    "\n",
    "        self.v = new_v\n",
    "        self.r = new_r\n"
   ]
  },
  {
   "cell_type": "code",
   "execution_count": 27,
   "metadata": {},
   "outputs": [],
   "source": [
    "r_x = []\n",
    "r_y = []\n",
    "\n",
    "ball = Ball(r=Point2D(0, 0), v=Point2D(50, 50), time_step=0.1)\n",
    "gravity = Point2D(0, -9.8)\n",
    "\n",
    "while ball.r.y >= 0:\n",
    "    r_x.append(ball.r.x)\n",
    "    r_y.append(ball.r.y)\n",
    "    \n",
    "    ball.euler_update(gravity)"
   ]
  },
  {
   "cell_type": "code",
   "execution_count": 30,
   "metadata": {},
   "outputs": [
    {
     "data": {
      "text/plain": [
       "(0.0, 136.5546000000002)"
      ]
     },
     "execution_count": 30,
     "metadata": {},
     "output_type": "execute_result"
    },
    {
     "data": {
      "image/png": "[encoded data removed]",
      "text/plain": [
       "<Figure size 432x288 with 1 Axes>"
      ]
     },
     "metadata": {
      "needs_background": "light"
     },
     "output_type": "display_data"
    }
   ],
   "source": [
    "plt.plot(r_x, r_y, '.')\n",
    "plt.ylim(0)"
   ]
  },
  {
   "cell_type": "code",
   "execution_count": null,
   "metadata": {},
   "outputs": [],
   "source": []
  }
 ],
 "metadata": {
  "interpreter": {
   "hash": "cd3ddc36eecec65d4d922eb7fd8175608a52ac5292d3b63930773bd6d56e5f5b"
  },
  "kernelspec": {
   "display_name": "Python 3.10.4 ('pythonphysics')",
   "language": "python",
   "name": "python3"
  },
  "language_info": {
   "codemirror_mode": {
    "name": "ipython",
    "version": 3
   },
   "file_extension": ".py",
   "mimetype": "text/x-python",
   "name": "python",
   "nbconvert_exporter": "python",
   "pygments_lexer": "ipython3",
   "version": "3.10.4"
  },
  "orig_nbformat": 4
 },
 "nbformat": 4,
 "nbformat_minor": 2
}
