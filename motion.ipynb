{
 "cells": [
  {
   "cell_type": "markdown",
   "metadata": {},
   "source": [
    "# Integration of Motion"
   ]
  },
  {
   "cell_type": "markdown",
   "metadata": {},
   "source": [
    "## Outline\n",
    "\n",
    "[ ] Basic Euler\n",
    " - Throw a baseball\n",
    " - Compare with Truth\n",
    " - Show effect of timestep\n",
    " - Why timestep matters and error term\n",
    "[ ] Verlet / Leapfrog\n",
    " - Comparison with previous baseball\n",
    " - Simple Pendulum\n",
    "[ ] Runge Kutta"
   ]
  },
  {
   "cell_type": "markdown",
   "metadata": {},
   "source": [
    "# Euler's Method"
   ]
  },
  {
   "cell_type": "markdown",
   "metadata": {},
   "source": [
    "Starting with basic equation of motion, $ \\vec{F} = m \\vec{a} $\n",
    "\n",
    "Where, using $\\vec{r}$ as position, $\\vec{v}$ for velocity, and $\\vec{a}$ for acceleration of an object of mass $m$ experiencing the force $\\vec{F}$, \n",
    "$$ \\frac{d \\vec{r}}{dt} = \\vec{v} $$\n",
    "$$  \\quad \\frac{d\\vec{v}}{dt} = \\vec{a} = \\frac{1}{m} \\vec{F} $$\n",
    "If the force applied is only the downward force of gravity, ${F_g}_x = 0, {F_g}_y = -9.8 ~ (m / s^2)$ or more compactly $\\vec{F}_g = \\left[0, -9.8 \\right] ~ (m / s^2)$\n",
    "\n",
    "We can solve for the equations of motions to obtain the trajectory of a ball with initial position $\\vec{r}_0$ and velocity $\\vec{v}_0$ as,\n",
    "$$\\vec{r} (t) = \\vec{r}_0 + \\vec{v}_0 t - \\frac{1}{2} g t^2 \\hat{y}$$\n",
    "Where g is the acceleration due to gravity of $(9.8 m / s^2)$."
   ]
  },
  {
   "cell_type": "markdown",
   "metadata": {},
   "source": [
    "To obtain a numerical method, we need a method for evaluating the derivatives $\\frac{d\\vec{r}}{dt}$ and $\\frac{d\\vec{v}}{dt}$ and obtain an equation of motion $\\vec{r}(t)$.\n",
    "\n",
    "Starting from the formal definition of the derivative with $\\tau$ as an infitisemal time step.\n",
    "$$ r'(t) = \\lim_{\\tau\\to 0} \\frac{r(t + \\tau) - r(t)}{\\tau} $$\n",
    "This is known as the _forward derivative_, as we look _forward_ in time with a small step $\\tau$.\n",
    "However, for a given time $t$ and position $r(t)$, we must know the position at some small increment future time $r(t+\\tau)$.\n",
    "To find this new position, consider the taylor expansion of $r(t+\\tau)$,\n",
    "$$ r(t+\\tau) = r(t) + \\tau ~ r'(t) + \\frac{\\tau^2}{2} r''(t) + \\cdots$$\n",
    "The terms in the expansion involving second and higher order derivatives are equal to,\n",
    "$$ \\frac{\\tau^2}{2} r''(t) + \\cdots = \\frac{\\tau^2}{2} r''(\\eta) $$\n",
    "For some $\\eta$ between $t$ and $t + \\tau$.\n",
    "\n",
    "Rearranging the taylor expansion for $r'(t)$ with this substitution, we have\n",
    "$$ r'(t) = \\frac{r(t + \\tau) - r(t)}{\\tau} - \\frac{1}{2}\\tau ~ r''(\\eta) $$\n",
    "Often written as,\n",
    "$$ r'(t) = \\frac{r(t + \\tau) - r(t)}{\\tau} + \\mathcal{O}(\\tau) $$\n",
    "indicating that the additional term(s) are of order $\\tau$ ($\\tau$ raised to the one power). Rearranging for $r(t + \\tau)$,\n",
    "$$ r(t + \\tau) = r(t) + \\tau ~ r'(t) + \\tau ~\\mathcal{O}(\\tau) $$\n",
    "Since $\\tau ~\\mathcal{O}(\\tau)$ is of order $\\tau^2$, this term can be written as $\\mathcal{O}(\\tau^2)$, or\n",
    "$$ r(t + \\tau) = r(t) + \\tau ~ r'(t) + \\mathcal{O}(\\tau^2) $$\n",
    "\n",
    "In order to solve for $r(t + \\tau)$, we must know make an approximation. In the _Euler_ method, we assume that the additional term(s) represented by $\\mathcal{O}(\\tau^2)$ negligible. Now solving for $r(t+\\tau)$ we finally have,\n",
    "$$ r(t + \\tau) = r(t) + \\tau ~ r'(t) $$\n",
    "and for $v(t)$ we have,\n",
    "$$ v(t + \\tau) = v(t) + \\tau ~ v'(t) $$\n",
    "\n",
    "Substituting the values of $r'(t) = v(t)$, $v'(t) = a(t)$\n",
    "$$ r(t + \\tau) = r(t) + \\tau ~ v(t) $$\n",
    "$$ v(t + \\tau) = v(t) + \\tau ~ a(t) $$\n",
    "\n",
    "Using the notation of $t_n = n ~ \\tau$ and $r_{n} = r(t_n)$, $r_{n+1} = r(t_{n+1}) = r(t_n + \\tau)$,\n",
    "$$ r_{n+1} = r_n + \\tau ~v_n $$\n",
    "$$ v_{n+1} = v_n + \\tau ~a_n $$\n",
    "Where $a_n = a(r_n, v_n)$.\n",
    "This method, based on the forward derivative, is the _Euler Method_.\n",
    "\n",
    "Thus our method will be to \n",
    "1) Start with an initial position and velocity, $r_0$, $v_0$\n",
    "2) Choose a time step $\\tau$\n",
    "3) Calculate $a_n = a(r_n, v_n)$\n",
    "4) Use the update equations to calculate $v_{n+1}$ and $r_{n+1}$\n",
    "5) Repeat steps 3 and 4 until we have reached a desired end point, either a time or some stopping condition"
   ]
  },
  {
   "cell_type": "markdown",
   "metadata": {},
   "source": [
    "# Python Portion"
   ]
  },
  {
   "cell_type": "code",
   "execution_count": 130,
   "metadata": {},
   "outputs": [],
   "source": [
    "import matplotlib.pyplot as plt\n",
    "\n",
    "from dataclasses import dataclass\n",
    "\n",
    "\n",
    "@dataclass\n",
    "class Point2D:\n",
    "    x: float = 0\n",
    "    y: float = 0\n",
    "\n",
    "    def __add__(self, other):\n",
    "        temp = Point2D()\n",
    "        if isinstance(other, Point2D):\n",
    "            temp.x = self.x + other.x\n",
    "            temp.y = self.y + other.y\n",
    "            return temp\n",
    "        if isinstance(other, float) or isinstance(other, int):\n",
    "            temp.x = self.x + other\n",
    "            temp.y = self.y + other\n",
    "            return temp\n",
    "\n",
    "    def __radd__(self, other):\n",
    "        return self.__add__(other)\n",
    "\n",
    "    def __sub__(self, other):\n",
    "        temp = Point2D()\n",
    "        if isinstance(other, Point2D):\n",
    "            temp.x = self.x - other.x\n",
    "            temp.y = self.y - other.y\n",
    "            return temp\n",
    "        if isinstance(other, float) or isinstance(other, int):\n",
    "            temp.x = self.x - other\n",
    "            temp.y = self.y - other\n",
    "            return temp\n",
    "\n",
    "    def __rsub__(self, other):\n",
    "        return self.__sub__(other)\n",
    "\n",
    "    def __inv__(self):\n",
    "        temp = Point2D()\n",
    "        temp.x = self.x * -1\n",
    "        temp.y = self.y * -1\n",
    "        return temp\n",
    "\n",
    "    def __mul__(self, other):\n",
    "        temp = Point2D()\n",
    "        if isinstance(other, Point2D):\n",
    "            temp.x = self.x * other.x\n",
    "            temp.y = self.y * other.y\n",
    "            return temp\n",
    "        if isinstance(other, float) or isinstance(other, int):\n",
    "            temp.x = self.x * other\n",
    "            temp.y = self.y * other\n",
    "            return temp\n",
    "\n",
    "    def __rmul__(self, other):\n",
    "        return self.__mul__(other)\n",
    "\n",
    "\n",
    "@dataclass\n",
    "class PointObject:\n",
    "    r: Point2D\n",
    "    v: Point2D\n",
    "    a: Point2D\n",
    "\n",
    "\n",
    "def euler_update(r, v, a, time_step):\n",
    "    r_n_1 = r + time_step * v\n",
    "    v_n_1 = v + time_step * a\n",
    "\n",
    "    return r_n_1, v_n_1\n",
    "\n",
    "\n",
    "@dataclass\n",
    "class Ball(PointObject):\n",
    "    time: float = 0\n",
    "\n",
    "    def update(self, a, method='euler', time_step=0):\n",
    "        if method == 'euler':\n",
    "            self.r, self.v = euler_update(self.r, self.v, a, time_step)\n",
    "\n",
    "            self.time += time_step\n"
   ]
  },
  {
   "cell_type": "code",
   "execution_count": 97,
   "metadata": {},
   "outputs": [
    {
     "data": {
      "image/png": "[encoded data removed]",
      "text/plain": [
       "<Figure size 432x288 with 1 Axes>"
      ]
     },
     "metadata": {
      "needs_background": "light"
     },
     "output_type": "display_data"
    }
   ],
   "source": [
    "r_x = []\n",
    "r_y = []\n",
    "\n",
    "r_0 = Point2D(0, 0)\n",
    "v_0 = Point2D(50, 50)\n",
    "\n",
    "ball = Ball(r=r_0, v=v_0)\n",
    "gravity = Point2D(0, -9.8)\n",
    "\n",
    "while ball.r.y >= 0:\n",
    "    r_x.append(ball.r.x)\n",
    "    r_y.append(ball.r.y)\n",
    "    \n",
    "    ball.update(gravity, time_step=0.5)\n",
    "\n",
    "plt.plot(r_x, r_y, '.')\n",
    "_ = plt.ylim(0)"
   ]
  },
  {
   "cell_type": "code",
   "execution_count": 91,
   "metadata": {},
   "outputs": [
    {
     "data": {
      "text/plain": [
       "(0.0, 147.26250000000002)"
      ]
     },
     "execution_count": 91,
     "metadata": {},
     "output_type": "execute_result"
    },
    {
     "data": {
      "image/png": "[encoded data removed]",
      "text/plain": [
       "<Figure size 432x288 with 1 Axes>"
      ]
     },
     "metadata": {
      "needs_background": "light"
     },
     "output_type": "display_data"
    }
   ],
   "source": []
  },
  {
   "cell_type": "code",
   "execution_count": 104,
   "metadata": {},
   "outputs": [
    {
     "data": {
      "image/png": "[encoded data removed]",
      "text/plain": [
       "<Figure size 432x288 with 1 Axes>"
      ]
     },
     "metadata": {
      "needs_background": "light"
     },
     "output_type": "display_data"
    }
   ],
   "source": [
    "r_x = []\n",
    "r_y = []\n",
    "\n",
    "true_r_x = []\n",
    "true_r_y = []\n",
    "\n",
    "r_0 = Point2D(0, 0)\n",
    "v_0 = Point2D(50, 50)\n",
    "\n",
    "ball = Ball(r=r_0, v=v_0)\n",
    "gravity = Point2D(0, -9.8)\n",
    "\n",
    "tau = 0.5\n",
    "\n",
    "while ball.r.y >= 0:\n",
    "    r_x.append(ball.r.x)\n",
    "    r_y.append(ball.r.y)\n",
    "\n",
    "    true_r = r_0 + (v_0 * ball.time) + 0.5 * (ball.time ** 2) * gravity\n",
    "    true_r_x.append(true_r.x)\n",
    "    true_r_y.append(true_r.y)\n",
    "    \n",
    "    ball.update(gravity, time_step=tau)\n",
    "\n",
    "plt.plot(r_x, r_y, 'b.', label=rf'Euler, $\\tau$ = {tau:.2f}')\n",
    "plt.plot(true_r_x, true_r_y, 'r-', label='True Trajectory')\n",
    "plt.ylim(0)\n",
    "_ = plt.legend()"
   ]
  },
  {
   "cell_type": "markdown",
   "metadata": {},
   "source": [
    "We see that the Euler method is a little off compared to the expected true answer from solving the equations of motion directly. One option is to simply decrease the timestep $\\tau$."
   ]
  },
  {
   "cell_type": "code",
   "execution_count": 99,
   "metadata": {},
   "outputs": [
    {
     "data": {
      "image/png": "[encoded data removed]",
      "text/plain": [
       "<Figure size 432x288 with 1 Axes>"
      ]
     },
     "metadata": {
      "needs_background": "light"
     },
     "output_type": "display_data"
    }
   ],
   "source": [
    "r_x = []\n",
    "r_y = []\n",
    "\n",
    "true_r_x = []\n",
    "true_r_y = []\n",
    "\n",
    "r_0 = Point2D(0, 0)\n",
    "v_0 = Point2D(50, 50)\n",
    "\n",
    "ball = Ball(r=r_0, v=v_0)\n",
    "gravity = Point2D(0, -9.8)\n",
    "\n",
    "while ball.r.y >= 0:\n",
    "    r_x.append(ball.r.x)\n",
    "    r_y.append(ball.r.y)\n",
    "\n",
    "    true_r = r_0 + (v_0 * ball.time) + 0.5 * (ball.time ** 2) * gravity\n",
    "    true_r_x.append(true_r.x)\n",
    "    true_r_y.append(true_r.y)\n",
    "    \n",
    "    ball.update(gravity, time_step=0.05)\n",
    "\n",
    "plt.plot(r_x, r_y, 'b.')\n",
    "plt.plot(true_r_x, true_r_y, 'r-')\n",
    "_ = plt.ylim(0)"
   ]
  },
  {
   "cell_type": "markdown",
   "metadata": {},
   "source": [
    "## Errors"
   ]
  },
  {
   "cell_type": "markdown",
   "metadata": {},
   "source": [
    "Now we see that the Euler method agrees much better with the expected trajectory. However, how do we know which $\\tau$ to choose if we don't have the exact trajectory to compare it with?\n",
    "In general there are three approaches: \n",
    "1. Use the expected magnitude of the error for the choose numerical algorithm (such as Euler's Method) to inform which $\\tau$ will meet the desired accuracy\n",
    "2. Do an iterative approach, where several methods of $\\tau$ are choosen. If the trajectory stops changing significantly, $\\tau$ is assumed to be small enough. That is, a smaller $\\tau$ will not change the answer.\n",
    "3. Use a class of algorithms which are able to choose a value of $\\tau$ on their own, these are _adaptive_ methods.\n",
    "\n",
    "In practice, most people stick with 2 in most cases if you are writing your own algorithm. And will either perform the analysis in 1 for serious work (writing a paper, doing safety analysis), or use the third approach if they are using an external library or are exceptionally motivated to write the more advanced adaptive algorithm.\n",
    "\n",
    "For the Euler method, we can quickly do the first approach to see how this works.\n",
    "\n",
    "In general, the accumulated error, called the _global_ error, will depend on the error introduced at each step, called the _local_ error, and the number of steps taken\n",
    "$$ \\text{Global Error} \\propto N \\times \\text{Local Error}$$\n",
    "\n",
    "In terms of the time step and the time period we are simulating, $N$ can be represented as\n",
    "$$ T = N ~ \\tau $$\n",
    "or \n",
    "$$ N = (T / \\tau) $$\n",
    "The _local_ error is estimated by the dependence on $\\tau$ of the additional neglected terms, which for the Euler Method is $\\mathcal{O}(\\tau^2)$.\n",
    "Overall we have\n",
    "$$ \\text{Global Error} \\propto (T / \\tau) ~ \\mathcal{O}(\\tau^2) $$\n",
    "or\n",
    "$$ \\text{Global Error} \\propto T ~ \\mathcal{O}(\\tau^{2-1}0) = T \\mathcal{O}(\\tau) $$\n",
    "\n",
    "Thus for the Euler Method, while making $\\tau$ 10 times smaller will reduce the error at each step by a factor of 100, we will be taking 10 times as many steps for the same time period. And an overall reduction of the error by a factor 10. \n",
    "\n",
    "The previous discussion is valid for any algorithm. That is for an algorithm with local error $\\mathcal{O}(\\tau^n)$, the global error will be proportional to $\\mathcal{O}(\\tau^{n-1})$\n",
    "\n",
    "We haven't discussed whether the local errors will always accumulate, or if they may cancel each other in every step. Studying the behavior of errors and their mangitude can be very difficult and often harder than implementing the algorithm itself!"
   ]
  },
  {
   "cell_type": "markdown",
   "metadata": {},
   "source": [
    "# Euler-Cromer Method"
   ]
  },
  {
   "cell_type": "markdown",
   "metadata": {},
   "source": [
    "In the Euler method, we have\n",
    "$$ r_{n+1} = r_n + \\tau ~v_n $$\n",
    "$$ v_{n+1} = v_n + \\tau ~a_n $$\n",
    "Where for each new step $(n+1)$ we use the velocity of the previous step $n$.\n",
    "\n",
    "One modification could be to instead use the newly updated $v_{n+1}$, when calculating $r_n$ as,\n",
    "$$ v_{n+1} = v_n + \\tau ~a_n $$\n",
    "$$ r_{n+1} = r_n + \\tau ~v_{n+1} $$\n",
    "Where we calculate $v_{n+1}$ _first_ and use it for $r_{n+1}$. This is the _Euler-Cromer_ method illustrated below."
   ]
  },
  {
   "cell_type": "code",
   "execution_count": 134,
   "metadata": {},
   "outputs": [
    {
     "data": {
      "image/png": "[encoded data removed]",
      "text/plain": [
       "<Figure size 432x288 with 1 Axes>"
      ]
     },
     "metadata": {
      "needs_background": "light"
     },
     "output_type": "display_data"
    }
   ],
   "source": [
    "def euler_update(r, v, a, time_step):\n",
    "    r_n_1 = r + time_step * v\n",
    "    v_n_1 = v + time_step * a\n",
    "\n",
    "    return r_n_1, v_n_1\n",
    "\n",
    "def euler_cromer_update(r, v, a, time_step):\n",
    "    v_n_1 = v + time_step * a\n",
    "    r_n_1 = r + time_step * v_n_1\n",
    "\n",
    "    return r_n_1, v_n_1\n",
    "\n",
    "@dataclass\n",
    "class Particle(PointObject):\n",
    "    time: float = 0\n",
    "    update_method: str = 'euler'\n",
    "\n",
    "    def __post_init__(self):\n",
    "        self.set_update_method(self.update_method)\n",
    "\n",
    "    def set_update_method(self, method='euler'):\n",
    "        self.update_method = method\n",
    "        if method == 'euler':\n",
    "            self._update_func = euler_update\n",
    "        elif method == 'euler-cromer':\n",
    "            self._update_func = euler_cromer_update\n",
    "\n",
    "    def update(self, a, time_step=0):\n",
    "        self.r, self.v = self._update_func(self.r, self.v, a, time_step)\n",
    "\n",
    "        self.time += time_step\n",
    "\n",
    "@dataclass\n",
    "class Ball(Particle):\n",
    "    def throw(self, gravity, time_step=0):\n",
    "        r_x, r_y = [], []\n",
    "\n",
    "        while self.r.y >= 0:\n",
    "            r_x.append(self.r.x)\n",
    "            r_y.append(self.r.y)\n",
    "\n",
    "            self.update(gravity, time_step)\n",
    "        \n",
    "        return r_x, r_y\n",
    "\n",
    "\n",
    "r_0 = Point2D(0, 0)\n",
    "v_0 = Point2D(50, 50)\n",
    "\n",
    "ball1 = Ball(r=r_0, v=v_0, update_method='euler')\n",
    "ball2 = Ball(r=r_0, v=v_0, update_method='euler-cromer')\n",
    "gravity = Point2D(0, -9.8)\n",
    "tau = 0.5\n",
    "\n",
    "ball1_r_x, ball1_r_y = ball1.throw(gravity, time_step=tau)\n",
    "ball2_r_x, ball2_r_y = ball2.throw(gravity, time_step=tau)\n",
    "\n",
    "true_trajectory = Particle(r=r_0, v=v_0)\n",
    "true_r_x, true_r_y = [], []\n",
    "time = 0\n",
    "while true_trajectory.r.y >= 0:\n",
    "\n",
    "    true_trajectory.r = r_0 + (v_0 * time) + 0.5 * (time ** 2) * gravity\n",
    "    true_r_x.append(true_trajectory.r.x)\n",
    "    true_r_y.append(true_trajectory.r.y)\n",
    "\n",
    "    time += tau\n",
    "\n",
    "plt.plot(ball1_r_x, ball1_r_y, 'b.', label=rf'{ball1.update_method}, $\\tau$ = {tau:.2f}')\n",
    "plt.plot(ball2_r_x, ball2_r_y, 'm.', label=rf'{ball2.update_method}, $\\tau$ = {tau:.2f}')\n",
    "plt.plot(true_r_x, true_r_y, 'r-', label='True Trajectory')\n",
    "plt.ylim(0)\n",
    "_ = plt.legend()"
   ]
  },
  {
   "cell_type": "markdown",
   "metadata": {},
   "source": [
    "Now we see that instead of overestimating like the Euler method, the Euler-Cromer method underestimates. Perhaps we can split the difference by averaging the methods where \n",
    "$$ v_{n+1} = v_n + \\tau ~a_n $$\n",
    "$$ r_{n+1} = r_n + \\tau ~ \\frac{1}{2}(v_{n+1} + v_{n}) $$\n",
    "However, instead of keep track of both $v_n$ and $v_{n+1}$ to calculate $r_{n+1}$, we can simplify by substituting the expression of $v_{n+1}$ into our new $r_{n+1}$ equation and obtain\n",
    "$$ v_{n+1} = v_n + \\tau ~a_n $$\n",
    "$$ r_{n+1} = r_n + \\tau v_n + \\frac{1}{2} \\tau^2 a_n $$\n",
    "This is the _Midpoint Method_."
   ]
  },
  {
   "cell_type": "code",
   "execution_count": 135,
   "metadata": {},
   "outputs": [
    {
     "data": {
      "image/png": "[encoded data removed]",
      "text/plain": [
       "<Figure size 432x288 with 1 Axes>"
      ]
     },
     "metadata": {
      "needs_background": "light"
     },
     "output_type": "display_data"
    }
   ],
   "source": [
    "def euler_update(r, v, a, time_step):\n",
    "    r_n_1 = r + time_step * v\n",
    "    v_n_1 = v + time_step * a\n",
    "\n",
    "    return r_n_1, v_n_1\n",
    "\n",
    "def euler_cromer_update(r, v, a, time_step):\n",
    "    v_n_1 = v + time_step * a\n",
    "    r_n_1 = r + time_step * v_n_1\n",
    "\n",
    "    return r_n_1, v_n_1\n",
    "\n",
    "def midpoint_update(r, v, a, time_step):\n",
    "    v_n_1 = v + time_step * a\n",
    "    r_n_1 = r + time_step * v + 0.5 * (time_step ** 2) * a\n",
    "\n",
    "    return r_n_1, v_n_1\n",
    "\n",
    "@dataclass\n",
    "class Particle(PointObject):\n",
    "    time: float = 0\n",
    "    update_method: str = 'euler'\n",
    "\n",
    "    def __post_init__(self):\n",
    "        self.set_update_method(self.update_method)\n",
    "\n",
    "    def set_update_method(self, method='euler'):\n",
    "        self.update_method = method\n",
    "        if method == 'euler':\n",
    "            self._update_func = euler_update\n",
    "        elif method == 'euler-cromer':\n",
    "            self._update_func = euler_cromer_update\n",
    "        elif method == 'midpoint':\n",
    "            self._update_func = midpoint_update\n",
    "        \n",
    "\n",
    "    def update(self, a, time_step=0):\n",
    "        self.r, self.v = self._update_func(self.r, self.v, a, time_step)\n",
    "\n",
    "        self.time += time_step\n",
    "\n",
    "@dataclass\n",
    "class Ball(Particle):\n",
    "    def throw(self, gravity, time_step=0):\n",
    "        r_x, r_y = [], []\n",
    "\n",
    "        while self.r.y >= 0:\n",
    "            r_x.append(self.r.x)\n",
    "            r_y.append(self.r.y)\n",
    "\n",
    "            self.update(gravity, time_step)\n",
    "        \n",
    "        return r_x, r_y\n",
    "\n",
    "\n",
    "r_0 = Point2D(0, 0)\n",
    "v_0 = Point2D(50, 50)\n",
    "\n",
    "ball1 = Ball(r=r_0, v=v_0, update_method='euler')\n",
    "ball2 = Ball(r=r_0, v=v_0, update_method='euler-cromer')\n",
    "ball3 = Ball(r=r_0, v=v_0, update_method='midpoint')\n",
    "gravity = Point2D(0, -9.8)\n",
    "tau = 0.5\n",
    "\n",
    "ball1_r_x, ball1_r_y = ball1.throw(gravity, time_step=tau)\n",
    "ball2_r_x, ball2_r_y = ball2.throw(gravity, time_step=tau)\n",
    "ball3_r_x, ball3_r_y = ball3.throw(gravity, time_step=tau)\n",
    "\n",
    "true_trajectory = Particle(r=r_0, v=v_0)\n",
    "true_r_x, true_r_y = [], []\n",
    "time = 0\n",
    "while true_trajectory.r.y >= 0:\n",
    "\n",
    "    true_trajectory.r = r_0 + (v_0 * time) + 0.5 * (time ** 2) * gravity\n",
    "    true_r_x.append(true_trajectory.r.x)\n",
    "    true_r_y.append(true_trajectory.r.y)\n",
    "\n",
    "    time += tau\n",
    "\n",
    "plt.plot(ball1_r_x, ball1_r_y, 'b.', label=rf'{ball1.update_method}, $\\tau$ = {tau:.2f}')\n",
    "plt.plot(ball2_r_x, ball2_r_y, 'm.', label=rf'{ball2.update_method}, $\\tau$ = {tau:.2f}')\n",
    "plt.plot(ball3_r_x, ball3_r_y, 'g.', label=rf'{ball3.update_method}, $\\tau$ = {tau:.2f}')\n",
    "plt.plot(true_r_x, true_r_y, 'r-', label='True Trajectory')\n",
    "plt.ylim(0)\n",
    "_ = plt.legend()"
   ]
  },
  {
   "cell_type": "markdown",
   "metadata": {},
   "source": [
    "And we see that this method is much more accurate! An error analysis of the midpoint method will show that the local error is of order $\\mathcal{O}(\\tau^3)$, so the global error be improved by a factor of $\\tau$ compared to the Euler and Euler-Cromer methods. The advantage of using more sophisticated methods is that we require fewer timestep to obtain a result. For the simple case of simulating one ball this difference isn't important. However if we want to simulate a galaxy containing millions of stars interacting each other due to their mutual gravitational attraction, each step can potentially be very complicated and take a significant amount of time. Reducing the number of time steps will reduce the computing time required for a simulation."
   ]
  },
  {
   "cell_type": "code",
   "execution_count": null,
   "metadata": {},
   "outputs": [],
   "source": []
  },
  {
   "cell_type": "code",
   "execution_count": 121,
   "metadata": {},
   "outputs": [
    {
     "data": {
      "text/plain": [
       "<function __main__.euler_cromer_update(r, v, a, time_step)>"
      ]
     },
     "execution_count": 121,
     "metadata": {},
     "output_type": "execute_result"
    }
   ],
   "source": [
    "ball.update_func"
   ]
  },
  {
   "cell_type": "markdown",
   "metadata": {},
   "source": []
  }
 ],
 "metadata": {
  "interpreter": {
   "hash": "cd3ddc36eecec65d4d922eb7fd8175608a52ac5292d3b63930773bd6d56e5f5b"
  },
  "kernelspec": {
   "display_name": "Python 3.10.4 ('pythonphysics')",
   "language": "python",
   "name": "python3"
  },
  "language_info": {
   "codemirror_mode": {
    "name": "ipython",
    "version": 3
   },
   "file_extension": ".py",
   "mimetype": "text/x-python",
   "name": "python",
   "nbconvert_exporter": "python",
   "pygments_lexer": "ipython3",
   "version": "3.10.4"
  },
  "orig_nbformat": 4
 },
 "nbformat": 4,
 "nbformat_minor": 2
}
